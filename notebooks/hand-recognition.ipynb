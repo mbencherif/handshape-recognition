{
 "cells": [
  {
   "cell_type": "code",
   "execution_count": 11,
   "metadata": {
    "collapsed": true
   },
   "outputs": [],
   "source": [
    "import caffe\n",
    "import numpy as np"
   ]
  },
  {
   "cell_type": "code",
   "execution_count": 12,
   "metadata": {
    "collapsed": true
   },
   "outputs": [],
   "source": [
    "model_def = '../models/1miohands-modelzoo-v2/deploy.prototxt'\n",
    "model_weights = '../models/1miohands-modelzoo-v2/1miohands-v2.caffemodel'\n",
    "\n",
    "net = caffe.Net (model_def,model_weights,caffe.TEST)"
   ]
  },
  {
   "cell_type": "code",
   "execution_count": 13,
   "metadata": {},
   "outputs": [
    {
     "name": "stdout",
     "output_type": "stream",
     "text": [
      "mean-subtracted values: [('B', 101.38971456052326), ('G', 95.91513532802787), ('R', 101.174141329087)]\n"
     ]
    }
   ],
   "source": [
    "mu = np.load('../models/1miohands-modelzoo-v2/227x227-TRAIN-allImages-forFeatures-0label-227x227handpatch.mean.npy')\n",
    "mu = mu.mean(1).mean(1)\n",
    "\n",
    "print 'mean-subtracted values:', zip('BGR', mu)"
   ]
  },
  {
   "cell_type": "code",
   "execution_count": 14,
   "metadata": {
    "collapsed": true
   },
   "outputs": [],
   "source": [
    "# input preprocessing: 'data' is the name of the input blob == net.inputs[0]\n",
    "transformer = caffe.io.Transformer({'data': net.blobs['data'].data.shape})\n",
    "transformer.set_transpose('data', (2,0,1))  # move image channels to outermost dimension\n",
    "transformer.set_mean('data', mu)            # subtract the dataset-mean value in each channel\n",
    "transformer.set_raw_scale('data', 255)      # rescale from [0, 1] to [0, 255]\n",
    "transformer.set_channel_swap('data', (2,1,0))  # swap channels from RGB to BGR"
   ]
  },
  {
   "cell_type": "code",
   "execution_count": 15,
   "metadata": {
    "collapsed": true
   },
   "outputs": [],
   "source": [
    "file = []\n",
    "file+=[\"../data/images/final_phoenix_noPause_noCompound_lefthandtag_noClean/28November_2011_Monday_tagesschau_default-12/1/*.png_fn000178-0.png\"]\n",
    "file+=[\"../data/images/final_phoenix_noPause_noCompound_lefthandtag_noClean/01August_2011_Monday_heute_default-6/1/*.png_fn000054-0.png\"]\n",
    "file+=[\"../data/images/final_phoenix_noPause_noCompound_lefthandtag_noClean/01August_2011_Monday_heute_default-6/1/*.png_fn000070-0.png\"]"
   ]
  },
  {
   "cell_type": "code",
   "execution_count": 16,
   "metadata": {},
   "outputs": [
    {
     "name": "stdout",
     "output_type": "stream",
     "text": [
      "20\n",
      "24\n"
     ]
    }
   ],
   "source": [
    "for f in file:\n",
    "    net.blobs['data'].data[...] = transformer.preprocess('data',caffe.io.load_image(f))\n",
    "    pred = net.forward()\n",
    "    print(np.argmax( pred['prob']))"
   ]
  },
  {
   "cell_type": "code",
   "execution_count": null,
   "metadata": {
    "collapsed": true
   },
   "outputs": [],
   "source": []
  }
 ],
 "metadata": {
  "kernelspec": {
   "display_name": "Python 2",
   "language": "python",
   "name": "python2"
  },
  "language_info": {
   "codemirror_mode": {
    "name": "ipython",
    "version": 2
   },
   "file_extension": ".py",
   "mimetype": "text/x-python",
   "name": "python",
   "nbconvert_exporter": "python",
   "pygments_lexer": "ipython2",
   "version": "2.7.12"
  }
 },
 "nbformat": 4,
 "nbformat_minor": 2
}
